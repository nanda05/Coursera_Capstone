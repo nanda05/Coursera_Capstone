{
    "nbformat_minor": 2, 
    "cells": [
        {
            "source": "# The Final Battle of Neighborhoods - Capstone Project\n### Nanda kishore", 
            "cell_type": "markdown", 
            "metadata": {}
        }, 
        {
            "source": "# Introduction", 
            "cell_type": "markdown", 
            "metadata": {}
        }, 
        {
            "source": "Choosing the location for opening a new restaurant can prove to be a win/loss factor for the owners. The revenue a restaurant makes is highly dependent on its location. In this project, the Foursquare API will be used to find the various trends to optimize the location. The city considered in this project is Toronto.", 
            "cell_type": "markdown", 
            "metadata": {}
        }, 
        {
            "source": "# Data\n", 
            "cell_type": "markdown", 
            "metadata": {}
        }, 
        {
            "source": "The Foursquare API will be a main source of data. Using the API, we will get cuisines, nearby restaurants and nearby points of interest.<br>\n1) If the restaurant has many other restaurants of the same cuisine nearby, then it is a bad idea to open the restaurant there.<br>\n2) Also the number of nearby restaurants must be low so that people have lesser choices when looking for nearby restaurants. <br>\n3) With more points of interests(like tourist attractions etc) nearby, there will be more people in the neighborhood and that would mean more customers for us.", 
            "cell_type": "markdown", 
            "metadata": {}
        }, 
        {
            "source": "# Methodology", 
            "cell_type": "markdown", 
            "metadata": {}
        }, 
        {
            "source": "A list of all the neighborhoods (Toronto) is converted to a pandas DataFrame. Then, the latitudes and longitudes of the each of the neighborhoods are added to the DataFrame. Using folium, a map of Toronto and all the neighborhoods is generated. The neighborhoods are analysed to find the most populated and least populated zones. The cuisine of the restaurant (to be opened) is as an input from the client. The foursquare API is called and the venues around each neighborhood are requested. These are then added to a new DataFrame. The neighborhoods having restaurants offering the same cuisine are removed from the DataFrame.\nThis gives a list of optimum neighborhoods where the restaurant can be opened.", 
            "cell_type": "markdown", 
            "metadata": {}
        }, 
        {
            "source": "# Results", 
            "cell_type": "markdown", 
            "metadata": {}
        }, 
        {
            "source": "A dataframe was created, which contained the neighborhoods where the restaurant should be opened.", 
            "cell_type": "markdown", 
            "metadata": {}
        }, 
        {
            "source": "# Discussions", 
            "cell_type": "markdown", 
            "metadata": {}
        }, 
        {
            "source": "There is a high density of neighborhoods in the Toronto Downtown region. So it is recommended that the restaurant be opened in any neighborhood(found by the code) within the Toronto Downtown region.", 
            "cell_type": "markdown", 
            "metadata": {}
        }, 
        {
            "source": "# Conclusion", 
            "cell_type": "markdown", 
            "metadata": {}
        }, 
        {
            "source": "This project helps in finding the optimum location for opening a new restaurant. Taking help from the Foursquare API, a final dataframe was created which indicated the optimum neighborhoods for the store opening.", 
            "cell_type": "markdown", 
            "metadata": {}
        }
    ], 
    "nbformat": 4, 
    "metadata": {
        "kernelspec": {
            "display_name": "Python 3.6", 
            "name": "python3", 
            "language": "python"
        }, 
        "language_info": {
            "mimetype": "text/x-python", 
            "nbconvert_exporter": "python", 
            "version": "3.6.8", 
            "name": "python", 
            "pygments_lexer": "ipython3", 
            "file_extension": ".py", 
            "codemirror_mode": {
                "version": 3, 
                "name": "ipython"
            }
        }
    }
}